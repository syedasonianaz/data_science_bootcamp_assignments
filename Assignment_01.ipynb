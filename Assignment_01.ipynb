{
 "cells": [
  {
   "cell_type": "code",
   "execution_count": 13,
   "metadata": {},
   "outputs": [
    {
     "name": "stdout",
     "output_type": "stream",
     "text": [
      "0 0\n",
      "1 1\n",
      "2 3\n",
      "3 6\n",
      "4 10\n",
      "5 15\n",
      "6 21\n",
      "7 28\n",
      "8 36\n",
      "9 45\n"
     ]
    }
   ],
   "source": [
    "#1. Write a program to iterate the first 10 numbers, and in each iteration, print the sum of the current and previous number.\n",
    "sum = 0\n",
    "value = 0\n",
    "for i in range(10):\n",
    "    sum += value + i\n",
    "    print(i, sum)"
   ]
  },
  {
   "cell_type": "code",
   "execution_count": 29,
   "metadata": {},
   "outputs": [
    {
     "name": "stdout",
     "output_type": "stream",
     "text": [
      "1 \n",
      "2 2 \n",
      "3 3 3 \n",
      "4 4 4 4 \n",
      "5 5 5 5 5 \n"
     ]
    }
   ],
   "source": [
    "# 2. Print the following pattern\n",
    "# 1 \n",
    "# 2 2\n",
    "# 3 3 3\n",
    "# 4 4 4 4\n",
    "# 5 5 5 5 5\n",
    "\n",
    "for i in range(1, 6):\n",
    "  for j in range(i):\n",
    "    print(i, end=' ')\n",
    "  print()"
   ]
  },
  {
   "cell_type": "code",
   "execution_count": 31,
   "metadata": {},
   "outputs": [
    {
     "name": "stdout",
     "output_type": "stream",
     "text": [
      "75\n",
      "150\n",
      "145\n",
      "50\n"
     ]
    }
   ],
   "source": [
    "# 3. List is given below:\n",
    "# numbers = [12, 75, 150, 180, 145, 525, 50]Write a program to display only those numbers from a list that satisfy the following\n",
    "# conditions\n",
    "# i. The number must be divisible by five\n",
    "# ii. If the number is greater than 150, then skip it and move to the next number\n",
    "# iii. If the number is greater than 500, then stop the loop\n",
    "\n",
    "numbers = [12, 75, 150, 180, 145, 525, 50]\n",
    "for num in numbers:\n",
    "    if num % 5 == 0:\n",
    "        if num > 150:\n",
    "            continue\n",
    "        elif num > 500:\n",
    "            break\n",
    "        else:\n",
    "            print(num)\n",
    "\n",
    "            "
   ]
  },
  {
   "cell_type": "code",
   "execution_count": 54,
   "metadata": {},
   "outputs": [
    {
     "name": "stdout",
     "output_type": "stream",
     "text": [
      "0\n",
      "1\n",
      "1\n",
      "2\n",
      "3\n",
      "5\n",
      "8\n",
      "13\n",
      "21\n",
      "34\n"
     ]
    }
   ],
   "source": [
    "# 4. Display Fibonacci series up to 10 terms\n",
    "# The Fibonacci Sequence is a series of numbers. The next number is found by adding\n",
    "# up the two numbers before it. The first two numbers are 0 and 1.\n",
    "# For example, 0, 1, 1, 2, 3, 5, 8, 13, 21. The next number in this series above is\n",
    "# 13+21 = 34.\n",
    "\n",
    "for i in range(10):\n",
    "\tif i <= 1:\n",
    "\t print(i)\n",
    "\telse:\n",
    "\t\tprint(fibonacci(i-1) + fibonacci(i-2))\n"
   ]
  },
  {
   "cell_type": "code",
   "execution_count": 63,
   "metadata": {},
   "outputs": [
    {
     "name": "stdout",
     "output_type": "stream",
     "text": [
      "24\n"
     ]
    }
   ],
   "source": [
    "# 5. Write a program to use the loop to find the factorial of a given number.\n",
    "# The factorial (symbol: !) means to multiply all whole numbers from the chosen number\n",
    "# down to 1.\n",
    "# For example: calculate the factorial of 5\n",
    "# 5! = 5 × 4 × 3 × 2 × 1 = 120\n",
    "\n",
    "n = 4\n",
    "factorial = 1\n",
    "for i in range(1, n + 1):\n",
    "  factorial *= i\n",
    "print(factorial)\n"
   ]
  },
  {
   "cell_type": "code",
   "execution_count": 65,
   "metadata": {},
   "outputs": [
    {
     "name": "stdout",
     "output_type": "stream",
     "text": [
      "{11: 2, 45: 3, 8: 1, 23: 2, 89: 1}\n"
     ]
    }
   ],
   "source": [
    "# 6. Write a program to iterate a given list and count the occurrence of each element and\n",
    "# print to show the count of each element.\n",
    "# sample_list = [11, 45, 8, 11, 23, 45, 23, 45, 89]\n",
    "# Expected Output:\n",
    "# Printing count of each item 11: 2, 45: 3, 8: 1, 23: 2, 89: 1\n",
    "\n",
    "occurrences = {}\n",
    "numbers = [11, 45, 8, 11, 23, 45, 23, 45, 89]\n",
    "for number in numbers:\n",
    "    if number in occurrences:\n",
    "        occurrences[number] += 1\n",
    "    else:\n",
    "        occurrences[number] = 1\n",
    "print(occurrences)\n",
    "\n"
   ]
  },
  {
   "cell_type": "code",
   "execution_count": 76,
   "metadata": {},
   "outputs": [
    {
     "name": "stdout",
     "output_type": "stream",
     "text": [
      "[3, 4, 8, 9, 12, 16, 15, 20, 24, 21, 28]\n"
     ]
    }
   ],
   "source": [
    "# 7. Given two lists, l1 and l2, write a program to create a third list l3 by picking an\n",
    "# odd-index element from the list l1 and even index elements from the list l2.\n",
    "# Given:\n",
    "# l1 = [3, 6, 9, 12, 15, 18, 21]\n",
    "# l2 = [4, 8, 12, 16, 20, 24, 28]\n",
    "\n",
    "l1 = [3, 6, 9, 12, 15, 18, 21]\n",
    "l2 = [4, 8, 12, 16, 20, 24, 28]\n",
    "l3 = []\n",
    "\n",
    "for i, j in zip(l1, l2):\n",
    "    if i % 2 != 0 and i % 3 == 0:\n",
    "        l3.append(i)\n",
    "    if j % 2 == 0:\n",
    "        l3.append(j)\n",
    "\n",
    "print(l3)"
   ]
  },
  {
   "cell_type": "code",
   "execution_count": null,
   "metadata": {},
   "outputs": [],
   "source": []
  }
 ],
 "metadata": {
  "kernelspec": {
   "display_name": "Python 3",
   "language": "python",
   "name": "python3"
  },
  "language_info": {
   "codemirror_mode": {
    "name": "ipython",
    "version": 3
   },
   "file_extension": ".py",
   "mimetype": "text/x-python",
   "name": "python",
   "nbconvert_exporter": "python",
   "pygments_lexer": "ipython3",
   "version": "3.11.4"
  }
 },
 "nbformat": 4,
 "nbformat_minor": 2
}
